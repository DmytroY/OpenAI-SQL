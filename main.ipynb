{
 "cells": [
  {
   "cell_type": "markdown",
   "metadata": {},
   "source": [
    "OpenAI assistant with access to SQL database"
   ]
  },
  {
   "cell_type": "code",
   "execution_count": 8,
   "metadata": {},
   "outputs": [],
   "source": [
    "def read_SQL(file:str) -> list:\n",
    "    \"\"\" read SQL code from file.\n",
    "    Usage: read_SQL(\"filename\").\n",
    "    It returns list of transactions.\n",
    "    \"\"\"\n",
    "    with open(file, \"r\") as f:\n",
    "        text = f.read()\n",
    "    return text.split(sep=\";\")"
   ]
  },
  {
   "cell_type": "code",
   "execution_count": 9,
   "metadata": {},
   "outputs": [],
   "source": [
    "\"\"\"connect or create SQLite db then create a cursor object\"\"\"\n",
    "import sqlite3\n",
    "import os\n",
    "conn = sqlite3.connect('Products.db')\n",
    "cursor = conn.cursor()\n",
    "\n",
    "# Create tables\n",
    "\n",
    "for item in read_SQL(\"create_tables.SQL\"):\n",
    "    if len(item) > 1:\n",
    "        cursor.execute(item)\n",
    "\n",
    "# insert test data\n",
    "cursor.execute(\"INSERT INTO products VALUES ('1','AWG812','1','Basic range washing machine with 8kg payload', '14', '777')\")\n",
    "cursor.execute(\"INSERT INTO products VALUES ('2','AWH914','1','Top range washing machine with 9kg payload', '12', '999')\")\n",
    "cursor.execute(\"INSERT INTO products VALUES ('3','AWZ8CD','2','Condensing dryer with 8kg payload', '8', '888')\")\n",
    "cursor.execute(\"INSERT INTO products VALUES ('4','AWZ8CD','2','Heat pump dryer with 9kg payload', '8', '977')\")\n",
    "cursor.execute(\"INSERT INTO products VALUES ('5','AWZ8CD','3','Steam ironer 2500 W', '8', '222')\")\n",
    "cursor.execute(\"INSERT INTO products VALUES ('6','AWZ8CD','3','Flatwork ironer 30kg/h', '8', '2599')\")\n",
    "\n",
    "cursor.execute(\"INSERT INTO product_groups VALUES ('1','W/M','Washing machines')\")\n",
    "cursor.execute(\"INSERT INTO product_groups VALUES ('2','DRY','Dryers')\")\n",
    "cursor.execute(\"INSERT INTO product_groups VALUES ('3','IRN','Ironers')\")\n",
    "\n",
    "# commit and close connection\n",
    "conn.commit()\n",
    "conn.close()"
   ]
  },
  {
   "cell_type": "code",
   "execution_count": 10,
   "metadata": {},
   "outputs": [
    {
     "name": "stdout",
     "output_type": "stream",
     "text": [
      "(1, 'AWG812', 1, 'Basic range washing machine with 8kg payload', 14, 777.0)\n",
      "(2, 'AWH914', 1, 'Top range washing machine with 9kg payload', 12, 999.0)\n",
      "(3, 'AWZ8CD', 2, 'Condensing dryer with 8kg payload', 8, 888.0)\n",
      "(4, 'AWZ8CD', 2, 'Heat pump dryer with 9kg payload', 8, 977.0)\n",
      "(5, 'AWZ8CD', 3, 'Steam ironer 2500 W', 8, 222.0)\n",
      "(6, 'AWZ8CD', 3, 'Flatwork ironer 30kg/h', 8, 2599.0)\n",
      "(1, 'W/M', 'Washing machines')\n",
      "(2, 'DRY', 'Dryers')\n",
      "(3, 'IRN', 'Ironers')\n"
     ]
    }
   ],
   "source": [
    "# check seeded data, read DB tables\n",
    "import sqlite3\n",
    "conn = sqlite3.connect('products.db')\n",
    "cursor = conn.execute(\"SELECT * FROM products\")\n",
    "results = cursor.fetchall()\n",
    "for item in results:\n",
    "    print(item)\n",
    "\n",
    "cursor = conn.execute(\"SELECT * FROM product_groups\")\n",
    "results = cursor.fetchall()\n",
    "for item in results:\n",
    "    print(item)\n",
    "conn.commit()\n",
    "conn.close()"
   ]
  },
  {
   "cell_type": "code",
   "execution_count": 15,
   "metadata": {},
   "outputs": [],
   "source": [
    "user_query = \"What is the model of the cheapest product from washing machines? \""
   ]
  },
  {
   "cell_type": "code",
   "execution_count": 16,
   "metadata": {},
   "outputs": [
    {
     "name": "stdout",
     "output_type": "stream",
     "text": [
      "SELECT model_code FROM products \n",
      "WHERE product_group_id = (SELECT id FROM product_groups WHERE group_code = 'W/M') \n",
      "ORDER BY price ASC LIMIT 1;\n"
     ]
    }
   ],
   "source": [
    "\"\"\"\n",
    "It will uses Azure AI, so do not forget implement Azure OpenAI deployment first\n",
    " and create .env file with credentials. .env file format:\n",
    "AZURE_OPENAI_API_KEY=\"......\"\n",
    "AZURE_OPENAI_ENDPOINT=\".......\"\n",
    "AZURE_OPENAI_API_VERSION=\"......\"\n",
    "AZURE_OPENAI_DEPLOYMENT_NAME=\"........\"\n",
    "\"\"\"\n",
    "\n",
    "import os\n",
    "from dotenv import load_dotenv\n",
    "from openai import AzureOpenAI\n",
    "\n",
    "# Load credentials as environment variables from .env file\n",
    "load_dotenv()\n",
    "\n",
    "# Preparing prompt. Show to AI database tables structure from create_tables.SQL file\n",
    "system_msg = \"Given the following SQL tables, your job is to write queries given a user’s request. Return SQL query only. No other words. No explanations.\\n\"\n",
    "for item in read_SQL(\"create_tables.SQL\"):\n",
    "    if len(item) > 1:\n",
    "        system_msg = system_msg + \"\\n\" + item\n",
    "\n",
    "# Connect to AzureOpenAI\n",
    "client = AzureOpenAI(\n",
    "    api_key=os.getenv(\"AZURE_OPENAI_API_KEY\"),  \n",
    "    api_version=os.getenv(\"AZURE_OPENAI_API_VERSION\"),\n",
    "    azure_endpoint = os.getenv(\"AZURE_OPENAI_ENDPOINT\"),\n",
    "    )\n",
    "deployment_name=os.getenv(\"AZURE_OPENAI_DEPLOYMENT_NAME\")\n",
    "\n",
    "# Send a completion call to generate an answer\n",
    "response = client.chat.completions.create(\n",
    "    model=deployment_name,\n",
    "    #prompt=(prompt_pre + db_description + prompt_post + question),\n",
    "    messages=[\n",
    "        {\n",
    "            \"role\": \"system\",\n",
    "            \"content\":system_msg\n",
    "        },\n",
    "        {\n",
    "            \"role\": \"user\",\n",
    "            \"content\": user_query\n",
    "        }\n",
    "    ],\n",
    "    max_tokens=64,\n",
    "    temperature = 0)\n",
    "generated_sql_query = str(response.choices[0].message.content).strip('`')\n",
    "# Print generated SQL query\n",
    "print(generated_sql_query)\n"
   ]
  },
  {
   "cell_type": "code",
   "execution_count": 17,
   "metadata": {},
   "outputs": [
    {
     "name": "stdout",
     "output_type": "stream",
     "text": [
      "Your query: What is the model of the cheapest product from washing machines? \n",
      "Answer:\n",
      "('AWG812',)\n"
     ]
    }
   ],
   "source": [
    "# Query database with generated SQL string and print the answer\n",
    "print(f\"Your query: {user_query}\")\n",
    "print(\"Answer:\")\n",
    "conn = sqlite3.connect('products.db')\n",
    "cursor = conn.execute(generated_sql_query)\n",
    "results = cursor.fetchall()\n",
    "for item in results:\n",
    "    print(item)\n",
    "conn.commit()\n",
    "conn.close()"
   ]
  }
 ],
 "metadata": {
  "kernelspec": {
   "display_name": "venv",
   "language": "python",
   "name": "python3"
  },
  "language_info": {
   "codemirror_mode": {
    "name": "ipython",
    "version": 3
   },
   "file_extension": ".py",
   "mimetype": "text/x-python",
   "name": "python",
   "nbconvert_exporter": "python",
   "pygments_lexer": "ipython3",
   "version": "3.12.6"
  }
 },
 "nbformat": 4,
 "nbformat_minor": 2
}
