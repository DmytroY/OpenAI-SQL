{
 "cells": [
  {
   "cell_type": "markdown",
   "metadata": {},
   "source": [
    "# OpenAI assistant with access to SQL database\n",
    "I will use Azure AI, so do not forget implement Azure OpenAI deployment first and create .env fole with credentials. \n",
    "\n",
    ".env file format:\n",
    "AZURE_OPENAI_API_KEY=\"......\"\n",
    "AZURE_OPENAI_ENDPOINT=\".......\"\n",
    "AZURE_OPENAI_API_VERSION=\"......\"\n",
    "AZURE_OPENAI_DEPLOYMENT_NAME=\"........\"\n",
    "SQLITE_DB_NAME=\"...........\""
   ]
  },
  {
   "cell_type": "code",
   "execution_count": null,
   "metadata": {},
   "outputs": [],
   "source": [
    "# Load credentials as environment variables from .env file\n",
    "from dotenv import load_dotenv\n",
    "\n",
    "load_dotenv()"
   ]
  },
  {
   "cell_type": "code",
   "execution_count": null,
   "metadata": {},
   "outputs": [],
   "source": [
    "# Connect to AzureOpenAI\n",
    "from openai import AzureOpenAI\n",
    "import os\n",
    "\n",
    "client = AzureOpenAI(\n",
    "    api_key=os.getenv(\"AZURE_OPENAI_API_KEY\"),  \n",
    "    api_version=os.getenv(\"AZURE_OPENAI_API_VERSION\"),\n",
    "    azure_endpoint = os.getenv(\"AZURE_OPENAI_ENDPOINT\"),\n",
    "    )\n",
    "deployment_name=os.getenv(\"AZURE_OPENAI_DEPLOYMENT_NAME\")"
   ]
  }
 ],
 "metadata": {
  "language_info": {
   "name": "python"
  }
 },
 "nbformat": 4,
 "nbformat_minor": 2
}
